{
 "cells": [
  {
   "cell_type": "markdown",
   "id": "f16f14aa-7c4e-4b60-a5d7-c4145c14f206",
   "metadata": {},
   "source": [
    "# Machine Learning Workflow for Predictive Safety Risk Classifier\n",
    "\n",
    "This notebook implements an end-to-end ML workflow to predict high-risk safety zones in Chicago. We iterate over multiple models, evaluate performance, tune hyperparameters, and validate the best model using our engineered datasets.\n",
    "\n",
    "## Dependencies\n",
    "- `pandas` and `numpy`: Data handling.\n",
    "- `scikit-learn`: Modeling, evaluation, and tuning.\n",
    "- `xgboost`: Advanced gradient boosting model."
   ]
  },
  {
   "cell_type": "code",
   "execution_count": 12,
   "id": "f8834771-a769-4b4e-9550-3233e76e7bb4",
   "metadata": {},
   "outputs": [
    {
     "name": "stdout",
     "output_type": "stream",
     "text": [
      "NaN counts in train_df (before cleaning):\n",
      "latitude              0\n",
      "longitude             0\n",
      "CrimeCount            0\n",
      "ViolentCount          0\n",
      "CrimeDensity          0\n",
      "ViolentRatio          0\n",
      "DistanceFromCenter    0\n",
      "Risk                  0\n",
      "dtype: int64\n",
      "\n",
      "NaN counts in train_df (after cleaning):\n",
      "latitude              0\n",
      "longitude             0\n",
      "CrimeCount            0\n",
      "ViolentCount          0\n",
      "CrimeDensity          0\n",
      "ViolentRatio          0\n",
      "DistanceFromCenter    0\n",
      "Risk                  0\n",
      "dtype: int64\n",
      "Train shape: (24102, 7), Val shape: (767, 7), Test shape: (782, 7)\n"
     ]
    }
   ],
   "source": [
    "# Import Libraries\n",
    "import pandas as pd\n",
    "import numpy as np\n",
    "from sklearn.model_selection import train_test_split, GridSearchCV\n",
    "from sklearn.linear_model import LogisticRegression\n",
    "from sklearn.ensemble import RandomForestClassifier\n",
    "from sklearn.metrics import classification_report, accuracy_score\n",
    "import xgboost as xgb\n",
    "import joblib\n",
    "\n",
    "# Step 1: Load engineered datasets\n",
    "train_df = pd.read_csv(\"../train_engineered.csv\")\n",
    "val_df = pd.read_csv(\"../val_engineered.csv\")\n",
    "test_df = pd.read_csv(\"../test_engineered.csv\")\n",
    "\n",
    "# Step 2: Check and clean NaNs\n",
    "print(\"NaN counts in train_df (before cleaning):\")\n",
    "print(train_df.isnull().sum())\n",
    "train_df = train_df.dropna() # Drop rows with any NaNs\n",
    "val_df = val_df.dropna()\n",
    "test_df = test_df.dropna()\n",
    "print(\"\\nNaN counts in train_df (after cleaning):\")\n",
    "print(train_df.isnull().sum())\n",
    "\n",
    "# Step 2: Split features and target\n",
    "X_train = train_df.drop(columns=['Risk'])\n",
    "y_train = train_df[\"Risk\"]\n",
    "X_val = val_df.drop(columns=['Risk'])\n",
    "y_val = val_df[\"Risk\"]\n",
    "X_test = test_df.drop(columns=['Risk'])\n",
    "y_test = test_df[\"Risk\"]\n",
    "\n",
    "print(f\"Train shape: {X_train.shape}, Val shape: {X_val.shape}, Test shape: {X_test.shape}\")"
   ]
  },
  {
   "cell_type": "markdown",
   "id": "2774cf74-5ea0-41d8-8124-dfd66f87a982",
   "metadata": {},
   "source": [
    "## Step 1: Baseline Model\n",
    "We start with a simple Logistic Regression model as a baseline to establish initial performance."
   ]
  },
  {
   "cell_type": "code",
   "execution_count": 13,
   "id": "96276f83-3f77-4312-ba0f-6b6af19efadb",
   "metadata": {},
   "outputs": [
    {
     "name": "stdout",
     "output_type": "stream",
     "text": [
      "Logistic Regression - Validation Set Performance:\n",
      "              precision    recall  f1-score   support\n",
      "\n",
      "         0.0       0.79      0.85      0.82       604\n",
      "         1.0       0.25      0.18      0.21       163\n",
      "\n",
      "    accuracy                           0.71       767\n",
      "   macro avg       0.52      0.52      0.52       767\n",
      "weighted avg       0.68      0.71      0.69       767\n",
      "\n",
      "Accuracy: 0.707\n"
     ]
    }
   ],
   "source": [
    "# Baseline Model: Logistic Regression\n",
    "# Step 1: Initialize and train the model\n",
    "lr_model = LogisticRegression(max_iter=1000, random_state=42)\n",
    "lr_model.fit(X_train, y_train)\n",
    "\n",
    "# Step 2: Predict and evaluate on validation set\n",
    "y_val_pred_lr = lr_model.predict(X_val)\n",
    "print(\"Logistic Regression - Validation Set Performance:\")\n",
    "print(classification_report(y_val, y_val_pred_lr))\n",
    "print(f\"Accuracy: {accuracy_score(y_val, y_val_pred_lr):.3f}\")"
   ]
  },
  {
   "cell_type": "markdown",
   "id": "30677542-68d0-49ab-a00f-bd6989227706",
   "metadata": {},
   "source": [
    "## Step 2: Model Iteration\n",
    "We test multiple models (Random Forest, XGBoost) to find a stronger performer than the baseline."
   ]
  },
  {
   "cell_type": "code",
   "execution_count": 18,
   "id": "f0f2f4c1-abe2-4564-baec-45411d3368dc",
   "metadata": {},
   "outputs": [
    {
     "name": "stdout",
     "output_type": "stream",
     "text": [
      "Random Forest - Validation Set Performance:\n",
      "              precision    recall  f1-score   support\n",
      "\n",
      "         0.0       0.79      0.85      0.82       604\n",
      "         1.0       0.25      0.18      0.21       163\n",
      "\n",
      "    accuracy                           0.71       767\n",
      "   macro avg       0.52      0.52      0.52       767\n",
      "weighted avg       0.68      0.71      0.69       767\n",
      "\n",
      "Accuracy: 0.707\n",
      "XGBoost - Validation Set Performance:\n",
      "              precision    recall  f1-score   support\n",
      "\n",
      "         0.0       0.79      0.85      0.82       604\n",
      "         1.0       0.25      0.18      0.21       163\n",
      "\n",
      "    accuracy                           0.71       767\n",
      "   macro avg       0.52      0.52      0.52       767\n",
      "weighted avg       0.68      0.71      0.69       767\n",
      "\n",
      "Accuracy: 0.707\n"
     ]
    }
   ],
   "source": [
    "# Model Iteration\n",
    "# Random Forest\n",
    "rf_model = RandomForestClassifier(n_estimators=100, random_state=42)\n",
    "rf_model.fit(X_train, y_train)\n",
    "y_val_pred_rf = rf_model.predict(X_val)\n",
    "print(\"Random Forest - Validation Set Performance:\")\n",
    "print(classification_report(y_val, y_val_pred_rf))\n",
    "print(f\"Accuracy: {accuracy_score(y_val, y_val_pred_rf):.3f}\")\n",
    "\n",
    "# XGBoost\n",
    "xgb_model = xgb.XGBClassifier(eval_metric=\"logloss\", random_state=42)\n",
    "xgb_model.fit(X_train, y_train)\n",
    "y_val_pred_xgb = xgb_model.predict(X_val)\n",
    "print(\"XGBoost - Validation Set Performance:\")\n",
    "print(classification_report(y_val, y_val_pred_xgb))\n",
    "print(f\"Accuracy: {accuracy_score(y_val, y_val_pred_xgb):.3f}\")"
   ]
  },
  {
   "cell_type": "markdown",
   "id": "107931a1-ebb0-41f0-aecd-784368744709",
   "metadata": {},
   "source": [
    "## Step 3: Hyperparameter Tuning\n",
    "We select the best-performing model (e.g., XGBoost) and tune its hyperparameters using GridSearchCV on the training set, then validate it."
   ]
  },
  {
   "cell_type": "code",
   "execution_count": 22,
   "id": "550c32b9-320a-41d9-81ef-b297c1e9e6f5",
   "metadata": {},
   "outputs": [
    {
     "name": "stdout",
     "output_type": "stream",
     "text": [
      "Best parameters: {'learning_rate': 0.01, 'max_depth': 3, 'n_estimators': 50}\n",
      "Tuned XGBoost - Validation Performance:\n",
      "              precision    recall  f1-score   support\n",
      "\n",
      "         0.0       0.79      0.85      0.82       604\n",
      "         1.0       0.25      0.18      0.21       163\n",
      "\n",
      "    accuracy                           0.71       767\n",
      "   macro avg       0.52      0.52      0.52       767\n",
      "weighted avg       0.68      0.71      0.69       767\n",
      "\n",
      "Accuracy: 0.707\n"
     ]
    }
   ],
   "source": [
    "# Hyperparameter Tuning - XGBoost\n",
    "# Step 1: Define parameters grid\n",
    "param_grid = {\n",
    "    \"max_depth\": [3, 5, 7],\n",
    "    \"learning_rate\": [0.01, 0.1, 0.3],\n",
    "    \"n_estimators\": [50, 100, 200]\n",
    "}\n",
    "\n",
    "# Step 2: Perform grid search\n",
    "xgb_tuned = xgb.XGBClassifier(eval_metric=\"logloss\", random_state=42)\n",
    "grid_search = GridSearchCV(xgb_tuned, param_grid, cv=3, scoring=\"accuracy\", n_jobs=-1)\n",
    "grid_search.fit(X_train, y_train)\n",
    "\n",
    "# Step 3: Best model and validation performance\n",
    "best_xgb = grid_search.best_estimator_\n",
    "print(\"Best parameters:\", grid_search.best_params_)\n",
    "\n",
    "y_val_pred_best = best_xgb.predict(X_val)\n",
    "print(\"Tuned XGBoost - Validation Performance:\")\n",
    "print(classification_report(y_val, y_val_pred_best))\n",
    "print(f\"Accuracy: {accuracy_score(y_val, y_val_pred_best):.3f}\")"
   ]
  },
  {
   "cell_type": "markdown",
   "id": "1683fcb4-29cf-436e-aa6d-0f1a96475e7d",
   "metadata": {},
   "source": [
    "## Step 4: Final Evaluation\n",
    "Evaluate the tuned model on the test set to assess generalization."
   ]
  },
  {
   "cell_type": "code",
   "execution_count": 23,
   "id": "b5e79d53-9e76-4f68-b3d9-d60593253d68",
   "metadata": {},
   "outputs": [
    {
     "name": "stdout",
     "output_type": "stream",
     "text": [
      "Tuned XGBoost - Test Set Performance:\n",
      "              precision    recall  f1-score   support\n",
      "\n",
      "         0.0       0.81      0.83      0.82       635\n",
      "         1.0       0.20      0.18      0.19       147\n",
      "\n",
      "    accuracy                           0.71       782\n",
      "   macro avg       0.51      0.51      0.51       782\n",
      "weighted avg       0.70      0.71      0.70       782\n",
      "\n",
      "Accuracy: 0.711\n"
     ]
    }
   ],
   "source": [
    "# Final Evaluation on Test Set\n",
    "y_test_pred = best_xgb.predict(X_test)\n",
    "print(\"Tuned XGBoost - Test Set Performance:\")\n",
    "print(classification_report(y_test, y_test_pred))\n",
    "print(f\"Accuracy: {accuracy_score(y_test, y_test_pred):.3f}\")"
   ]
  },
  {
   "cell_type": "markdown",
   "id": "103cbf43-70b2-422f-a788-34142e66f24a",
   "metadata": {},
   "source": [
    "## Step 5: Save the Best Model\n",
    "Save the tuned model for future use or deployment."
   ]
  },
  {
   "cell_type": "code",
   "execution_count": 24,
   "id": "71fca25d-88d5-43ee-965a-6c529de4feef",
   "metadata": {},
   "outputs": [
    {
     "name": "stdout",
     "output_type": "stream",
     "text": [
      "Best model saved as 'best_model.pk1'\n"
     ]
    }
   ],
   "source": [
    "# Save the Best Model\n",
    "joblib.dump(best_xgb, \"../best_model.pk1\")\n",
    "print(\"Best model saved as 'best_model.pk1'\")"
   ]
  },
  {
   "cell_type": "code",
   "execution_count": null,
   "id": "e3bde32f-6b3a-4f74-ac70-1107dd88cf3a",
   "metadata": {},
   "outputs": [],
   "source": []
  }
 ],
 "metadata": {
  "kernelspec": {
   "display_name": "Python 3 (ipykernel)",
   "language": "python",
   "name": "python3"
  },
  "language_info": {
   "codemirror_mode": {
    "name": "ipython",
    "version": 3
   },
   "file_extension": ".py",
   "mimetype": "text/x-python",
   "name": "python",
   "nbconvert_exporter": "python",
   "pygments_lexer": "ipython3",
   "version": "3.12.2"
  }
 },
 "nbformat": 4,
 "nbformat_minor": 5
}
